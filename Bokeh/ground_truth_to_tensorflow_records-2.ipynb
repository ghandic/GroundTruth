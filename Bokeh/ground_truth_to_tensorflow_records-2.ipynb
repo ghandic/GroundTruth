{
 "cells": [
  {
   "cell_type": "code",
   "execution_count": 1,
   "metadata": {},
   "outputs": [
    {
     "data": {
      "text/html": [
       "<div>\n",
       "<style>\n",
       "    .dataframe thead tr:only-child th {\n",
       "        text-align: right;\n",
       "    }\n",
       "\n",
       "    .dataframe thead th {\n",
       "        text-align: left;\n",
       "    }\n",
       "\n",
       "    .dataframe tbody tr th {\n",
       "        vertical-align: top;\n",
       "    }\n",
       "</style>\n",
       "<table border=\"1\" class=\"dataframe\">\n",
       "  <thead>\n",
       "    <tr style=\"text-align: right;\">\n",
       "      <th></th>\n",
       "      <th>img</th>\n",
       "      <th>x</th>\n",
       "      <th>y</th>\n",
       "      <th>width</th>\n",
       "      <th>height</th>\n",
       "    </tr>\n",
       "  </thead>\n",
       "  <tbody>\n",
       "    <tr>\n",
       "      <th>0</th>\n",
       "      <td>https://raw.githubusercontent.com/ghandic/Grou...</td>\n",
       "      <td>0.475424</td>\n",
       "      <td>0.572829</td>\n",
       "      <td>0.364407</td>\n",
       "      <td>0.637703</td>\n",
       "    </tr>\n",
       "    <tr>\n",
       "      <th>1</th>\n",
       "      <td>https://raw.githubusercontent.com/ghandic/Grou...</td>\n",
       "      <td>0.555085</td>\n",
       "      <td>0.542462</td>\n",
       "      <td>0.608475</td>\n",
       "      <td>0.532800</td>\n",
       "    </tr>\n",
       "    <tr>\n",
       "      <th>2</th>\n",
       "      <td>https://raw.githubusercontent.com/ghandic/Grou...</td>\n",
       "      <td>0.598305</td>\n",
       "      <td>0.652887</td>\n",
       "      <td>0.447458</td>\n",
       "      <td>0.416854</td>\n",
       "    </tr>\n",
       "    <tr>\n",
       "      <th>3</th>\n",
       "      <td>https://raw.githubusercontent.com/ghandic/Grou...</td>\n",
       "      <td>0.611864</td>\n",
       "      <td>0.485869</td>\n",
       "      <td>0.264407</td>\n",
       "      <td>0.469305</td>\n",
       "    </tr>\n",
       "    <tr>\n",
       "      <th>4</th>\n",
       "      <td>https://raw.githubusercontent.com/ghandic/Grou...</td>\n",
       "      <td>0.569492</td>\n",
       "      <td>0.531419</td>\n",
       "      <td>0.562712</td>\n",
       "      <td>0.455502</td>\n",
       "    </tr>\n",
       "  </tbody>\n",
       "</table>\n",
       "</div>"
      ],
      "text/plain": [
       "                                                 img         x         y  \\\n",
       "0  https://raw.githubusercontent.com/ghandic/Grou...  0.475424  0.572829   \n",
       "1  https://raw.githubusercontent.com/ghandic/Grou...  0.555085  0.542462   \n",
       "2  https://raw.githubusercontent.com/ghandic/Grou...  0.598305  0.652887   \n",
       "3  https://raw.githubusercontent.com/ghandic/Grou...  0.611864  0.485869   \n",
       "4  https://raw.githubusercontent.com/ghandic/Grou...  0.569492  0.531419   \n",
       "\n",
       "      width    height  \n",
       "0  0.364407  0.637703  \n",
       "1  0.608475  0.532800  \n",
       "2  0.447458  0.416854  \n",
       "3  0.264407  0.469305  \n",
       "4  0.562712  0.455502  "
      ]
     },
     "execution_count": 1,
     "metadata": {},
     "output_type": "execute_result"
    }
   ],
   "source": [
    "import pandas as pd\n",
    "from PIL import Image\n",
    "import numpy as np\n",
    "\n",
    "images_dir = '/home/jovyan/work/Documents/GitHub/GroundTruth/Images/'\n",
    "\n",
    "cats_in = pd.read_csv(\"/home/jovyan/work/Documents/GitHub/GroundTruth/TensorFlow/data/bokeh_result.csv\")\n",
    "cats_in.head()"
   ]
  },
  {
   "cell_type": "code",
   "execution_count": 2,
   "metadata": {
    "collapsed": true
   },
   "outputs": [],
   "source": [
    "data_out = []\n",
    "\n",
    "for image in cats_in.index:\n",
    "    \n",
    "    in_img, in_x, in_y, in_w, in_h = cats_in.iloc[image]\n",
    "    \n",
    "    \n",
    "    im = Image.open(images_dir+ in_img.split('/').pop())\n",
    "    im_w, im_h = im.size[0], im.size[1]\n",
    "    \n",
    "    out = {'filename': in_img.split('/').pop(),\n",
    "           'width': im_w,\n",
    "           'height': im_h,\n",
    "           'class': 'cat',\n",
    "           'xmin': np.floor((in_x - in_w/2)*im_w),\n",
    "           'ymin': np.floor((in_y - in_h/2)*im_h), \n",
    "           'xmax': np.floor((in_x + in_w/2)*im_w),\n",
    "           'ymax': np.floor((in_y + in_h/2)*im_h)}\n",
    "    \n",
    "    data_out.append(out)   "
   ]
  },
  {
   "cell_type": "code",
   "execution_count": 3,
   "metadata": {
    "collapsed": true
   },
   "outputs": [],
   "source": [
    "cats_out = pd.DataFrame(data_out)\n",
    "\n",
    "msk = np.random.rand(len(cats_out)) < 0.75\n",
    "train = cats_out[msk]\n",
    "test = cats_out[~msk]"
   ]
  },
  {
   "cell_type": "code",
   "execution_count": 6,
   "metadata": {
    "collapsed": true
   },
   "outputs": [],
   "source": [
    "cats_out.to_csv('/home/jovyan/work/Documents/GitHub/GroundTruth/TensorFlow/data/full_records.csv', index=False,\n",
    "               columns=['filename', 'width', 'height', 'class', 'xmin', 'ymin', 'xmax', 'ymax'])\n",
    "\n",
    "train.to_csv('/home/jovyan/work/Documents/GitHub/GroundTruth/TensorFlow/data/train_records.csv', index=False,\n",
    "               columns=['filename', 'width', 'height', 'class', 'xmin', 'ymin', 'xmax', 'ymax'])\n",
    "\n",
    "test.to_csv('/home/jovyan/work/Documents/GitHub/GroundTruth/TensorFlow/data/test_records.csv', index=False,\n",
    "               columns=['filename', 'width', 'height', 'class', 'xmin', 'ymin', 'xmax', 'ymax'])"
   ]
  },
  {
   "cell_type": "code",
   "execution_count": null,
   "metadata": {
    "collapsed": true
   },
   "outputs": [],
   "source": []
  }
 ],
 "metadata": {
  "kernelspec": {
   "display_name": "Python 3",
   "language": "python",
   "name": "python3"
  },
  "language_info": {
   "codemirror_mode": {
    "name": "ipython",
    "version": 3
   },
   "file_extension": ".py",
   "mimetype": "text/x-python",
   "name": "python",
   "nbconvert_exporter": "python",
   "pygments_lexer": "ipython3",
   "version": "3.6.2"
  }
 },
 "nbformat": 4,
 "nbformat_minor": 2
}
