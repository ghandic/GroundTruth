{
 "cells": [
  {
   "cell_type": "code",
   "execution_count": 77,
   "metadata": {},
   "outputs": [
    {
     "data": {
      "text/html": [
       "<div>\n",
       "<style>\n",
       "    .dataframe thead tr:only-child th {\n",
       "        text-align: right;\n",
       "    }\n",
       "\n",
       "    .dataframe thead th {\n",
       "        text-align: left;\n",
       "    }\n",
       "\n",
       "    .dataframe tbody tr th {\n",
       "        vertical-align: top;\n",
       "    }\n",
       "</style>\n",
       "<table border=\"1\" class=\"dataframe\">\n",
       "  <thead>\n",
       "    <tr style=\"text-align: right;\">\n",
       "      <th></th>\n",
       "      <th>img</th>\n",
       "      <th>x</th>\n",
       "      <th>y</th>\n",
       "      <th>width</th>\n",
       "      <th>height</th>\n",
       "    </tr>\n",
       "  </thead>\n",
       "  <tbody>\n",
       "    <tr>\n",
       "      <th>0</th>\n",
       "      <td>../Images/cat_001.jpg</td>\n",
       "      <td>0.637288</td>\n",
       "      <td>0.484489</td>\n",
       "      <td>0.674576</td>\n",
       "      <td>0.753649</td>\n",
       "    </tr>\n",
       "    <tr>\n",
       "      <th>1</th>\n",
       "      <td>../Images/cat_002.jpg</td>\n",
       "      <td>0.460169</td>\n",
       "      <td>0.437558</td>\n",
       "      <td>0.306780</td>\n",
       "      <td>0.665309</td>\n",
       "    </tr>\n",
       "    <tr>\n",
       "      <th>2</th>\n",
       "      <td>../Images/cat_003.jpg</td>\n",
       "      <td>0.438983</td>\n",
       "      <td>0.418234</td>\n",
       "      <td>0.440678</td>\n",
       "      <td>0.615618</td>\n",
       "    </tr>\n",
       "    <tr>\n",
       "      <th>3</th>\n",
       "      <td>../Images/cat_004.jpg</td>\n",
       "      <td>0.523729</td>\n",
       "      <td>0.454122</td>\n",
       "      <td>0.288136</td>\n",
       "      <td>0.610097</td>\n",
       "    </tr>\n",
       "    <tr>\n",
       "      <th>4</th>\n",
       "      <td>../Images/cat_005.jpg</td>\n",
       "      <td>0.511017</td>\n",
       "      <td>0.474827</td>\n",
       "      <td>0.262712</td>\n",
       "      <td>0.496912</td>\n",
       "    </tr>\n",
       "  </tbody>\n",
       "</table>\n",
       "</div>"
      ],
      "text/plain": [
       "                     img         x         y     width    height\n",
       "0  ../Images/cat_001.jpg  0.637288  0.484489  0.674576  0.753649\n",
       "1  ../Images/cat_002.jpg  0.460169  0.437558  0.306780  0.665309\n",
       "2  ../Images/cat_003.jpg  0.438983  0.418234  0.440678  0.615618\n",
       "3  ../Images/cat_004.jpg  0.523729  0.454122  0.288136  0.610097\n",
       "4  ../Images/cat_005.jpg  0.511017  0.474827  0.262712  0.496912"
      ]
     },
     "execution_count": 77,
     "metadata": {},
     "output_type": "execute_result"
    }
   ],
   "source": [
    "import pandas as pd\n",
    "from PIL import Image\n",
    "import numpy as np\n",
    "\n",
    "images_dir = '/home/jovyan/work/Documents/GitHub/GroundTruth/Images/'\n",
    "\n",
    "cats_in = pd.read_csv(\"/home/jovyan/work/Downloads/data_result (5).csv\")\n",
    "cats_in.head()"
   ]
  },
  {
   "cell_type": "code",
   "execution_count": 78,
   "metadata": {
    "collapsed": true
   },
   "outputs": [],
   "source": [
    "data_out = []\n",
    "\n",
    "for image in cats_in.index:\n",
    "    \n",
    "    in_img, in_x, in_y, in_w, in_h = cats_in.iloc[image]\n",
    "    \n",
    "    \n",
    "    im = Image.open(images_dir+ in_img.split('/').pop())\n",
    "    im_w, im_h = im.size[0], im.size[1]\n",
    "    \n",
    "    out = {'filename': in_img.split('/').pop(),\n",
    "           'width': im_w,\n",
    "           'height': im_h,\n",
    "           'class': 'cat',\n",
    "           'xmin': np.floor((in_x - in_w/2)*im_w),\n",
    "           'ymin': np.floor((in_y - in_h/2)*im_h), \n",
    "           'xmax': np.floor((in_x + in_w/2)*im_w),\n",
    "           'ymax': np.floor((in_y + in_h/2)*im_h)}\n",
    "    \n",
    "    data_out.append(out)   "
   ]
  },
  {
   "cell_type": "code",
   "execution_count": 79,
   "metadata": {
    "collapsed": true
   },
   "outputs": [],
   "source": [
    "cats_out = pd.DataFrame(data_out)\n",
    "\n",
    "msk = np.random.rand(len(cats_out)) < 0.75\n",
    "train = cats_out[msk]\n",
    "test = cats_out[~msk]"
   ]
  },
  {
   "cell_type": "code",
   "execution_count": 88,
   "metadata": {
    "collapsed": true
   },
   "outputs": [],
   "source": [
    "cats_out.to_csv('/home/jovyan/work/Downloads/cats.csv', index=False,\n",
    "               columns=['filename', 'width', 'height', 'class', 'xmin', 'ymin', 'xmax', 'ymax'])\n",
    "\n",
    "train.to_csv('/home/jovyan/work/Downloads/cats_train.csv', index=False,\n",
    "               columns=['filename', 'width', 'height', 'class', 'xmin', 'ymin', 'xmax', 'ymax'])\n",
    "\n",
    "test.to_csv('/home/jovyan/work/Downloads/cats_test.csv', index=False,\n",
    "               columns=['filename', 'width', 'height', 'class', 'xmin', 'ymin', 'xmax', 'ymax'])"
   ]
  }
 ],
 "metadata": {
  "kernelspec": {
   "display_name": "Python 3",
   "language": "python",
   "name": "python3"
  },
  "language_info": {
   "codemirror_mode": {
    "name": "ipython",
    "version": 3
   },
   "file_extension": ".py",
   "mimetype": "text/x-python",
   "name": "python",
   "nbconvert_exporter": "python",
   "pygments_lexer": "ipython3",
   "version": "3.6.2"
  }
 },
 "nbformat": 4,
 "nbformat_minor": 2
}
